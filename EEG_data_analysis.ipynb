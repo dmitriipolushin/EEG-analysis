{
  "nbformat": 4,
  "nbformat_minor": 0,
  "metadata": {
    "colab": {
      "name": "EEG_data_analysis.ipynb",
      "provenance": [],
      "collapsed_sections": []
    },
    "kernelspec": {
      "name": "python3",
      "display_name": "Python 3"
    }
  },
  "cells": [
    {
      "cell_type": "code",
      "metadata": {
        "id": "7vFgpmaKKRuZ",
        "colab_type": "code",
        "colab": {
          "base_uri": "https://localhost:8080/",
          "height": 68
        },
        "outputId": "c2fbd15d-f27f-4d55-8648-51b673121d75"
      },
      "source": [
        "!pip install mne"
      ],
      "execution_count": null,
      "outputs": [
        {
          "output_type": "stream",
          "text": [
            "Requirement already satisfied: mne in /usr/local/lib/python3.6/dist-packages (0.20.7)\n",
            "Requirement already satisfied: numpy>=1.11.3 in /usr/local/lib/python3.6/dist-packages (from mne) (1.18.5)\n",
            "Requirement already satisfied: scipy>=0.17.1 in /usr/local/lib/python3.6/dist-packages (from mne) (1.4.1)\n"
          ],
          "name": "stdout"
        }
      ]
    },
    {
      "cell_type": "code",
      "metadata": {
        "id": "W9qSz9A6g8qw",
        "colab_type": "code",
        "colab": {}
      },
      "source": [
        "!pip install -q gwpy"
      ],
      "execution_count": null,
      "outputs": []
    },
    {
      "cell_type": "code",
      "metadata": {
        "id": "uRHog6g0KNuR",
        "colab_type": "code",
        "colab": {}
      },
      "source": [
        "import mne\n",
        "import os\n",
        "import numpy as np\n",
        "import pandas as pd\n",
        "import matplotlib.pyplot as plt"
      ],
      "execution_count": null,
      "outputs": []
    },
    {
      "cell_type": "markdown",
      "metadata": {
        "id": "toLVB5fn8Nf_",
        "colab_type": "text"
      },
      "source": [
        "**Utility dictionarys**"
      ]
    },
    {
      "cell_type": "code",
      "metadata": {
        "id": "JAHa-Z4qbLuI",
        "colab_type": "code",
        "colab": {}
      },
      "source": [
        "# divide elctrodes from EEG device to three parts\n",
        "electrodes = {\"central\": ['EEG F3-Cz', 'EEG F4-Cz', 'EEG Fz-Cz', 'EEG C3-Cz', \n",
        "                          'EEG C4-Cz', 'EEG P3-Cz', 'EEG P4-Cz', 'EEG Pz-Cz'],\n",
        "              \"frontal\": ['EEG Fp1-Cz', 'EEG Fp2-Cz', 'EEG F7-Cz', 'EEG F3-Cz', \n",
        "                          'EEG Fz-Cz', 'EEG F4-Cz', 'EEG F8-Cz'],\n",
        "              \"temporal\": ['EEG T3-Cz', 'EEG T4-Cz', 'EEG T5-Cz', 'EEG T6-Cz']}\n",
        "\n",
        "# dictionary to get number data from control experiment\n",
        "results = {\n",
        "    'frontal': {'eyes': {}, 'experiment': {}},\n",
        "    'central': {'eyes': {}, 'experiment': {}},\n",
        "    'temporal': {'eyes': {}, 'experiment': {}},\n",
        "}\n",
        "\n",
        "# dictionary to get number data from music experiment\n",
        "results_music = {\n",
        "    'frontal': {'eyes': {}, 'experiment': {}},\n",
        "    'central': {'eyes': {}, 'experiment': {}},\n",
        "    'temporal': {'eyes': {}, 'experiment': {}},\n",
        "}\n",
        "\n",
        "# dictionary for calculating Event Related Desynchronization to \n",
        "# measure bands power for control experiment\n",
        "erd = {\n",
        "    'frontal': {},\n",
        "    'central': {},\n",
        "    'temporal': {},\n",
        "}\n",
        "\n",
        "# dictionary for calculating Event Related Desynchronization to \n",
        "# measure bands power for music experiment\n",
        "erd_music = {\n",
        "    'frontal': {},\n",
        "    'central': {},\n",
        "    'temporal': {},\n",
        "}\n",
        "\n",
        "experiment_parts = ['eyes', 'experiment']\n",
        "\n",
        "bands = ['alpha', 'theta', 'beta']"
      ],
      "execution_count": null,
      "outputs": []
    },
    {
      "cell_type": "code",
      "metadata": {
        "id": "o-r1CX8hXD-E",
        "colab_type": "code",
        "colab": {
          "base_uri": "https://localhost:8080/",
          "height": 255
        },
        "outputId": "03a9997f-fa0b-498b-d77b-7110bcf617c0"
      },
      "source": [
        "!pip install PyDrive"
      ],
      "execution_count": null,
      "outputs": [
        {
          "output_type": "stream",
          "text": [
            "Requirement already satisfied: PyDrive in /usr/local/lib/python3.6/dist-packages (1.3.1)\n",
            "Requirement already satisfied: oauth2client>=4.0.0 in /usr/local/lib/python3.6/dist-packages (from PyDrive) (4.1.3)\n",
            "Requirement already satisfied: PyYAML>=3.0 in /usr/local/lib/python3.6/dist-packages (from PyDrive) (3.13)\n",
            "Requirement already satisfied: google-api-python-client>=1.2 in /usr/local/lib/python3.6/dist-packages (from PyDrive) (1.7.12)\n",
            "Requirement already satisfied: six>=1.6.1 in /usr/local/lib/python3.6/dist-packages (from oauth2client>=4.0.0->PyDrive) (1.12.0)\n",
            "Requirement already satisfied: pyasn1>=0.1.7 in /usr/local/lib/python3.6/dist-packages (from oauth2client>=4.0.0->PyDrive) (0.4.8)\n",
            "Requirement already satisfied: httplib2>=0.9.1 in /usr/local/lib/python3.6/dist-packages (from oauth2client>=4.0.0->PyDrive) (0.17.4)\n",
            "Requirement already satisfied: rsa>=3.1.4 in /usr/local/lib/python3.6/dist-packages (from oauth2client>=4.0.0->PyDrive) (4.6)\n",
            "Requirement already satisfied: pyasn1-modules>=0.0.5 in /usr/local/lib/python3.6/dist-packages (from oauth2client>=4.0.0->PyDrive) (0.2.8)\n",
            "Requirement already satisfied: google-auth-httplib2>=0.0.3 in /usr/local/lib/python3.6/dist-packages (from google-api-python-client>=1.2->PyDrive) (0.0.3)\n",
            "Requirement already satisfied: uritemplate<4dev,>=3.0.0 in /usr/local/lib/python3.6/dist-packages (from google-api-python-client>=1.2->PyDrive) (3.0.1)\n",
            "Requirement already satisfied: google-auth>=1.4.1 in /usr/local/lib/python3.6/dist-packages (from google-api-python-client>=1.2->PyDrive) (1.17.2)\n",
            "Requirement already satisfied: cachetools<5.0,>=2.0.0 in /usr/local/lib/python3.6/dist-packages (from google-auth>=1.4.1->google-api-python-client>=1.2->PyDrive) (4.1.0)\n",
            "Requirement already satisfied: setuptools>=40.3.0 in /usr/local/lib/python3.6/dist-packages (from google-auth>=1.4.1->google-api-python-client>=1.2->PyDrive) (47.3.1)\n"
          ],
          "name": "stdout"
        }
      ]
    },
    {
      "cell_type": "markdown",
      "metadata": {
        "id": "SS8jAiaY-JHx",
        "colab_type": "text"
      },
      "source": [
        "**Part to download experiments data from Google Drive**"
      ]
    },
    {
      "cell_type": "code",
      "metadata": {
        "id": "rH8KQey_XI0d",
        "colab_type": "code",
        "colab": {}
      },
      "source": [
        "from pydrive.auth import GoogleAuth\n",
        "from pydrive.drive import GoogleDrive\n",
        "from google.colab import auth\n",
        "from oauth2client.client import GoogleCredentials"
      ],
      "execution_count": null,
      "outputs": []
    },
    {
      "cell_type": "code",
      "metadata": {
        "id": "gIMCCECHWXf4",
        "colab_type": "code",
        "colab": {}
      },
      "source": [
        "auth.authenticate_user()\n",
        "gauth = GoogleAuth()\n",
        "gauth.credentials = GoogleCredentials.get_application_default()\n",
        "drive = GoogleDrive(gauth)"
      ],
      "execution_count": null,
      "outputs": []
    },
    {
      "cell_type": "code",
      "metadata": {
        "id": "GR_Bl6mzWiS3",
        "colab_type": "code",
        "colab": {}
      },
      "source": [
        "from googleapiclient.discovery import build\n",
        "drive_service = build('drive', 'v3')"
      ],
      "execution_count": null,
      "outputs": []
    },
    {
      "cell_type": "code",
      "metadata": {
        "id": "aUh1d64aWlO6",
        "colab_type": "code",
        "colab": {}
      },
      "source": [
        "from pydrive.auth import GoogleAuth\n",
        "from pydrive.drive import GoogleDrive\n",
        "from google.colab import auth\n",
        "from oauth2client.client import GoogleCredentials# Authenticate and create the PyDrive client.\n",
        "auth.authenticate_user()\n",
        "gauth = GoogleAuth()\n",
        "gauth.credentials = GoogleCredentials.get_application_default()\n",
        "drive = GoogleDrive(gauth)"
      ],
      "execution_count": null,
      "outputs": []
    },
    {
      "cell_type": "markdown",
      "metadata": {
        "id": "6uqj5siyZnFq",
        "colab_type": "text"
      },
      "source": [
        "**CONTROL PART** \n",
        "\n"
      ]
    },
    {
      "cell_type": "markdown",
      "metadata": {
        "id": "Up07BsGn-2gq",
        "colab_type": "text"
      },
      "source": [
        " #### Download edf files of control data<br>\n",
        " EDF files was splitted by next events: <br>\n",
        "  - calibration with opened eyes\n",
        "  - calibration with closed eyes\n",
        "  - solving first task\n",
        "  - solving second task <br>\n",
        "  Tasks was solved without music\n"
      ]
    },
    {
      "cell_type": "code",
      "metadata": {
        "id": "vkqGUfTxXPXf",
        "colab_type": "code",
        "colab": {
          "base_uri": "https://localhost:8080/",
          "height": 357
        },
        "outputId": "20215920-398b-456b-9a8e-f7cdbf584204"
      },
      "source": [
        "# calibration with closed eyes part\n",
        "downloaded = drive.CreateFile({'id':'1IIrOEROGf9FqtIRTOBkxXMXzlxGKbvjY'})\n",
        "control_rest_closed = 'DmitriiPolushin.Internship2020.EyesClosed.edf'\n",
        "downloaded.GetContentFile('DmitriiPolushin.Internship2020.EyesClosed.edf')\n",
        "\n",
        "# calibration with opened eyes part\n",
        "downloaded = drive.CreateFile({'id':'1cCLpf28Dp0qtVuSGpvdyn8QpikhBIHeP'})\n",
        "control_rest_opened = 'DmitriiPolushin.Internship2020.EyesOpened.edf'\n",
        "downloaded.GetContentFile('DmitriiPolushin.Internship2020.EyesOpened.edf')\n",
        "\n",
        "# solving first task part\n",
        "downloaded = drive.CreateFile({'id':'1C2qDfiBao83kfOVhCV1UZRTJxQVRkpmd'})\n",
        "control_exp_first = 'DmitriiPolushin.Internship2020.FirstTask.edf'\n",
        "downloaded.GetContentFile('DmitriiPolushin.Internship2020.FirstTask.edf')\n",
        "\n",
        "# solving second task part\n",
        "downloaded = drive.CreateFile({'id':'1z3MVlsJMyB771ibfNzBtGvhK2UMWOAkD'})\n",
        "control_exp_second = 'DmitriiPolushin.Internship2020.SecondTask.edf'\n",
        "downloaded.GetContentFile('DmitriiPolushin.Internship2020.SecondTask.edf')\n",
        "\n",
        "# perform edf fiels to raw arrays\n",
        "control_raw_rest_closed = mne.io.read_raw_edf(control_rest_closed, preload=True)\n",
        "control_raw_rest_opened = mne.io.read_raw_edf(control_rest_opened, preload=True)\n",
        "control_raw_exp_first = mne.io.read_raw_edf(control_exp_first, preload=True)\n",
        "control_raw_exp_second = mne.io.read_raw_edf(control_exp_second, preload=True)"
      ],
      "execution_count": null,
      "outputs": [
        {
          "output_type": "stream",
          "text": [
            "Extracting EDF parameters from /content/DmitriiPolushin.Internship2020.EyesClosed.edf...\n",
            "EDF file detected\n",
            "Setting channel info structure...\n",
            "Creating raw.info structure...\n",
            "Reading 0 ... 30499  =      0.000 ...   121.996 secs...\n",
            "Extracting EDF parameters from /content/DmitriiPolushin.Internship2020.EyesOpened.edf...\n",
            "EDF file detected\n",
            "Setting channel info structure...\n",
            "Creating raw.info structure...\n",
            "Reading 0 ... 32999  =      0.000 ...   131.996 secs...\n",
            "Extracting EDF parameters from /content/DmitriiPolushin.Internship2020.FirstTask.edf...\n",
            "EDF file detected\n",
            "Setting channel info structure...\n",
            "Creating raw.info structure...\n",
            "Reading 0 ... 375249  =      0.000 ...  1500.996 secs...\n",
            "Extracting EDF parameters from /content/DmitriiPolushin.Internship2020.SecondTask.edf...\n",
            "EDF file detected\n",
            "Setting channel info structure...\n",
            "Creating raw.info structure...\n",
            "Reading 0 ... 368749  =      0.000 ...  1474.996 secs...\n"
          ],
          "name": "stdout"
        }
      ]
    },
    {
      "cell_type": "code",
      "metadata": {
        "id": "c1Cu0jMyZHJn",
        "colab_type": "code",
        "colab": {}
      },
      "source": [
        "sfreq = control_raw_exp_first.info['sfreq']"
      ],
      "execution_count": null,
      "outputs": []
    },
    {
      "cell_type": "markdown",
      "metadata": {
        "id": "FVmyMn1QBp_D",
        "colab_type": "text"
      },
      "source": [
        "- Function to divide data to bands according to frequency "
      ]
    },
    {
      "cell_type": "code",
      "metadata": {
        "id": "hOujRpv2e7nT",
        "colab_type": "code",
        "colab": {}
      },
      "source": [
        "def create_sub_bands(data):\n",
        "  return {\n",
        "      'alpha': mne.filter.filter_data(data=np.mean(data.get_data(), axis=0), \n",
        "                                      l_freq=8,\n",
        "                                      h_freq=12, \n",
        "                                      sfreq=sfreq, \n",
        "                                      method=\"fir\"),\n",
        "      'theta': mne.filter.filter_data(data=np.mean(data.get_data(), axis=0), \n",
        "                                      l_freq=4,\n",
        "                                      h_freq=8, \n",
        "                                      sfreq=sfreq, \n",
        "                                      method=\"fir\"),\n",
        "      'beta': mne.filter.filter_data(data=np.mean(data.get_data(), axis=0),\n",
        "                                      l_freq=12,\n",
        "                                      h_freq=30, \n",
        "                                      sfreq=sfreq, \n",
        "                                      method=\"fir\"),\n",
        "      }"
      ],
      "execution_count": null,
      "outputs": []
    },
    {
      "cell_type": "markdown",
      "metadata": {
        "id": "tE4CewWsB8Cz",
        "colab_type": "text"
      },
      "source": [
        "- function fot executing raw arrays to get number data and use notch filter to cut high frequency"
      ]
    },
    {
      "cell_type": "code",
      "metadata": {
        "id": "BfPPtjrWbVD7",
        "colab_type": "code",
        "colab": {}
      },
      "source": [
        "%%capture\n",
        "def create_data_from_raw(rawdata, area):\n",
        "\n",
        "  rawdata_pick = rawdata.copy().pick_channels(ch_names=electrodes[area])\n",
        "\n",
        "  rawdata_filtered_data = mne.filter.notch_filter(x=rawdata_pick.get_data(),\n",
        "                                                  Fs=sfreq, \n",
        "                                                  freqs=[50, 100]\n",
        "                                                  )\n",
        "\n",
        "  rawdata_filtered = mne.io.RawArray(data=rawdata_filtered_data,\n",
        "                                     info=mne.create_info(ch_names=electrodes[area], \n",
        "                                                          sfreq=sfreq)\n",
        "                                     )\n",
        "  \n",
        "  return create_sub_bands(rawdata_filtered)"
      ],
      "execution_count": null,
      "outputs": []
    },
    {
      "cell_type": "markdown",
      "metadata": {
        "id": "z5TjiPVvDP8o",
        "colab_type": "text"
      },
      "source": [
        "- create number data for every event"
      ]
    },
    {
      "cell_type": "code",
      "metadata": {
        "id": "LvYm_2WsbkqP",
        "colab_type": "code",
        "colab": {}
      },
      "source": [
        "%%capture\n",
        "for area in electrodes:\n",
        "  results[area]['eyes']['opened'] = create_data_from_raw(control_raw_rest_opened, area)\n",
        "  results[area]['eyes']['closed'] = create_data_from_raw(control_raw_rest_closed, area)\n",
        "  results[area]['experiment']['first'] = create_data_from_raw(control_raw_exp_first, area)\n",
        "  results[area]['experiment']['second'] = create_data_from_raw(control_raw_exp_second, area)"
      ],
      "execution_count": null,
      "outputs": []
    },
    {
      "cell_type": "markdown",
      "metadata": {
        "id": "CFpy21I8DrBd",
        "colab_type": "text"
      },
      "source": [
        "- function to calculate Event Related Desynchronization"
      ]
    },
    {
      "cell_type": "code",
      "metadata": {
        "id": "tHcu1MvPBX_x",
        "colab_type": "code",
        "colab": {}
      },
      "source": [
        "def ERD(rest, task):\n",
        "    print(rest, task)\n",
        "    return (rest-task) / rest * 100"
      ],
      "execution_count": null,
      "outputs": []
    },
    {
      "cell_type": "markdown",
      "metadata": {
        "id": "8UE62JuiEWuf",
        "colab_type": "text"
      },
      "source": [
        "- Function to prepare pandas DataFrame for plotting graphs"
      ]
    },
    {
      "cell_type": "code",
      "metadata": {
        "id": "mK2B4ci28ND6",
        "colab_type": "code",
        "colab": {}
      },
      "source": [
        "def create_dataFrame(experiment, eyes):\n",
        "  data_for_frame = []\n",
        "  for area in results:\n",
        "    el = []\n",
        "    for band in bands:\n",
        "      rest = np.mean(results[area]['eyes'][eyes][band], axis=0) * np.power(10, 6)\n",
        "      task = np.mean(results[area]['experiment'][experiment][band], axis=0) * np.power(10, 6)\n",
        "      erd[area][band] = ERD(rest, task)        \n",
        "      el.append(erd[area][band])      \n",
        "    data_for_frame.append(el)\n",
        "  return pd.DataFrame(data_for_frame, columns=erd['central'].keys(), index=erd.keys())"
      ],
      "execution_count": null,
      "outputs": []
    },
    {
      "cell_type": "code",
      "metadata": {
        "id": "fe5RYj0uDZyS",
        "colab_type": "code",
        "colab": {
          "base_uri": "https://localhost:8080/",
          "height": 629
        },
        "outputId": "96867f91-540a-4cf5-ef57-b0873025732a"
      },
      "source": [
        "# create dataFrame for each event \n",
        "open_eyes_first_task = create_dataFrame('first', 'opened')\n",
        "open_eyes_second_task = create_dataFrame('second', 'opened')\n",
        "closed_eyes_first_task = create_dataFrame('first', 'closed')\n",
        "closed_eyes_second_task = create_dataFrame('second', 'closed')"
      ],
      "execution_count": null,
      "outputs": [
        {
          "output_type": "stream",
          "text": [
            "7.122507484008057e-05 -6.628200057072728e-05\n",
            "-0.0007180976546535407 -1.0880875227530962e-05\n",
            "1.3990953745106773e-05 3.5871914055132594e-06\n",
            "-0.00017347813280294065 -5.269579501109344e-05\n",
            "-0.00030752257361474204 3.622092877099074e-05\n",
            "2.0160642646659402e-05 -2.879217531195294e-05\n",
            "-2.8479825671692604e-05 -0.00012619061112137834\n",
            "0.0009663298026326182 -4.123027726330413e-06\n",
            "-5.591271723530982e-05 -2.9175044800476576e-06\n",
            "7.122507484008057e-05 -6.0364850126960744e-05\n",
            "-0.0007180976546535407 -0.00027178532872276784\n",
            "1.3990953745106773e-05 -1.773367631295379e-06\n",
            "-0.00017347813280294065 -2.5206667030396367e-05\n",
            "-0.00030752257361474204 -0.00013663542973606945\n",
            "2.0160642646659402e-05 1.3009327168504533e-05\n",
            "-2.8479825671692604e-05 -4.4471785326276775e-05\n",
            "0.0009663298026326182 -0.00020160950827878936\n",
            "-5.591271723530982e-05 5.211911235075008e-05\n",
            "-0.0003692865209434007 -6.628200057072728e-05\n",
            "0.001373029016572857 -1.0880875227530962e-05\n",
            "-0.00040856304529590735 3.5871914055132594e-06\n",
            "0.0005251686804062236 -5.269579501109344e-05\n",
            "0.000357082909702255 3.622092877099074e-05\n",
            "0.00010864122167256265 -2.879217531195294e-05\n",
            "0.0031640577056526054 -0.00012619061112137834\n",
            "0.001599184930445081 -4.123027726330413e-06\n",
            "-0.00015350184502056834 -2.9175044800476576e-06\n",
            "-0.0003692865209434007 -6.0364850126960744e-05\n",
            "0.001373029016572857 -0.00027178532872276784\n",
            "-0.00040856304529590735 -1.773367631295379e-06\n",
            "0.0005251686804062236 -2.5206667030396367e-05\n",
            "0.000357082909702255 -0.00013663542973606945\n",
            "0.00010864122167256265 1.3009327168504533e-05\n",
            "0.0031640577056526054 -4.4471785326276775e-05\n",
            "0.001599184930445081 -0.00020160950827878936\n",
            "-0.00015350184502056834 5.211911235075008e-05\n"
          ],
          "name": "stdout"
        }
      ]
    },
    {
      "cell_type": "code",
      "metadata": {
        "id": "jQIOKZM6MXVN",
        "colab_type": "code",
        "colab": {
          "base_uri": "https://localhost:8080/",
          "height": 1000
        },
        "outputId": "aa622462-145c-4e3e-cb49-c97d6088716f"
      },
      "source": [
        "open_eyes_first_task.plot(kind='bar', title='open eyes')\n",
        "open_eyes_second_task.plot(kind='bar', title='open eyes')\n",
        "closed_eyes_first_task.plot(kind='bar', title='closed eyes')\n",
        "closed_eyes_second_task.plot(kind='bar', title='closed eyes')"
      ],
      "execution_count": null,
      "outputs": [
        {
          "output_type": "execute_result",
          "data": {
            "text/plain": [
              "<matplotlib.axes._subplots.AxesSubplot at 0x7fd91900a5f8>"
            ]
          },
          "metadata": {
            "tags": []
          },
          "execution_count": 46
        },
        {
          "output_type": "display_data",
          "data": {
            "image/png": "[encoded data removed]",
            "text/plain": [
              "<Figure size 432x288 with 1 Axes>"
            ]
          },
          "metadata": {
            "tags": [],
            "needs_background": "light"
          }
        },
        {
          "output_type": "display_data",
          "data": {
            "image/png": "[encoded data removed]",
            "text/plain": [
              "<Figure size 432x288 with 1 Axes>"
            ]
          },
          "metadata": {
            "tags": [],
            "needs_background": "light"
          }
        },
        {
          "output_type": "display_data",
          "data": {
            "image/png": "[encoded data removed]",
            "text/plain": [
              "<Figure size 432x288 with 1 Axes>"
            ]
          },
          "metadata": {
            "tags": [],
            "needs_background": "light"
          }
        },
        {
          "output_type": "display_data",
          "data": {
            "image/png": "[encoded data removed]",
            "text/plain": [
              "<Figure size 432x288 with 1 Axes>"
            ]
          },
          "metadata": {
            "tags": [],
            "needs_background": "light"
          }
        }
      ]
    },
    {
      "cell_type": "markdown",
      "metadata": {
        "id": "PDKmmh7xFkC0",
        "colab_type": "text"
      },
      "source": [
        "### **Some conclusions** <br>\n",
        "As we can see if we calculate EDF using rest data with open eyes alpha band in temporal part of our brain is going strange<br>\n",
        "But with calibration with closed all looks normal <br>\n",
        "In article *EEG alpha and theta oscillations reflect cognitive and memory performance a review and analysis and Understanding Programming Expertise* was the same result. If we will see on the part with closed eyes calibration then while solving task the theta power is increase and alpha power is decrease <br>\n",
        "Also the power of alpha band with closed eyes in frontal part (region where most of your conscious thoughts and decisions are made) is much smaller then with open eyes\n",
        " "
      ]
    },
    {
      "cell_type": "markdown",
      "metadata": {
        "id": "WLcXORLu5IDP",
        "colab_type": "text"
      },
      "source": [
        "## **MUSIC PART** "
      ]
    },
    {
      "cell_type": "markdown",
      "metadata": {
        "id": "UMSM3zeq5QZ1",
        "colab_type": "text"
      },
      "source": [
        "**The same that we have with Control part**"
      ]
    },
    {
      "cell_type": "code",
      "metadata": {
        "id": "bUW8bXYr5UQZ",
        "colab_type": "code",
        "colab": {
          "base_uri": "https://localhost:8080/",
          "height": 357
        },
        "outputId": "6788a294-9c26-445f-bdd7-b713b86ca2bf"
      },
      "source": [
        "downloaded = drive.CreateFile({'id':'1Ne_7yQE2q8akT0ZYsW48FhxjjiAE031c'})\n",
        "music_rest_closed = 'DmitriiPolushin.Internship2020.EyesClosed.edf'\n",
        "downloaded.GetContentFile('DmitriiPolushin.Internship2020.EyesClosed.edf')\n",
        "\n",
        "downloaded = drive.CreateFile({'id':'17XiMyXkj1U6jCVum_GfCoO4G0Ms_a7dg'})\n",
        "music_rest_opened = 'DmitriiPolushin.Internship2020.EyesOpened.edf'\n",
        "downloaded.GetContentFile('DmitriiPolushin.Internship2020.EyesOpened.edf')\n",
        "\n",
        "downloaded = drive.CreateFile({'id':'1NKbwbmYdDcxQ6DfqEGWhBPRiYOA1lQku'})\n",
        "music_exp_first = 'DmitriiPolushin.Internship2020.FirstTask.edf'\n",
        "downloaded.GetContentFile('DmitriiPolushin.Internship2020.FirstTask.edf')\n",
        "\n",
        "downloaded = drive.CreateFile({'id':'1gK24CpJsc9BgNtdIqUbSJwZAn6j5hOjI'})\n",
        "music_exp_second = 'DmitriiPolushin.Internship2020.SecondTask.edf'\n",
        "downloaded.GetContentFile('DmitriiPolushin.Internship2020.SecondTask.edf')\n",
        "\n",
        "music_raw_rest_closed = mne.io.read_raw_edf(music_rest_closed, preload=True)\n",
        "music_raw_rest_opened = mne.io.read_raw_edf(music_rest_opened, preload=True)\n",
        "music_raw_exp_first = mne.io.read_raw_edf(music_exp_first, preload=True)\n",
        "music_raw_exp_second = mne.io.read_raw_edf(music_exp_second, preload=True)"
      ],
      "execution_count": null,
      "outputs": [
        {
          "output_type": "stream",
          "text": [
            "Extracting EDF parameters from /content/DmitriiPolushin.Internship2020.EyesClosed.edf...\n",
            "EDF file detected\n",
            "Setting channel info structure...\n",
            "Creating raw.info structure...\n",
            "Reading 0 ... 30999  =      0.000 ...   123.996 secs...\n",
            "Extracting EDF parameters from /content/DmitriiPolushin.Internship2020.EyesOpened.edf...\n",
            "EDF file detected\n",
            "Setting channel info structure...\n",
            "Creating raw.info structure...\n",
            "Reading 0 ... 46999  =      0.000 ...   187.996 secs...\n",
            "Extracting EDF parameters from /content/DmitriiPolushin.Internship2020.FirstTask.edf...\n",
            "EDF file detected\n",
            "Setting channel info structure...\n",
            "Creating raw.info structure...\n",
            "Reading 0 ... 252499  =      0.000 ...  1009.996 secs...\n",
            "Extracting EDF parameters from /content/DmitriiPolushin.Internship2020.SecondTask.edf...\n",
            "EDF file detected\n",
            "Setting channel info structure...\n",
            "Creating raw.info structure...\n",
            "Reading 0 ... 296999  =      0.000 ...  1187.996 secs...\n"
          ],
          "name": "stdout"
        }
      ]
    },
    {
      "cell_type": "code",
      "metadata": {
        "id": "EmoFV0x87p03",
        "colab_type": "code",
        "colab": {}
      },
      "source": [
        "sfreq = music_raw_exp_first.info['sfreq']"
      ],
      "execution_count": null,
      "outputs": []
    },
    {
      "cell_type": "code",
      "metadata": {
        "id": "z0Y31rAX-PnB",
        "colab_type": "code",
        "colab": {}
      },
      "source": [
        "%%capture\n",
        "\n",
        "for area in electrodes:\n",
        "  results_music[area]['eyes']['opened'] = create_data_from_raw(music_raw_rest_opened, area)\n",
        "  results_music[area]['eyes']['closed'] = create_data_from_raw(music_raw_rest_closed, area)\n",
        "  results_music[area]['experiment']['first'] = create_data_from_raw(music_raw_exp_first, area)\n",
        "  results_music[area]['experiment']['second'] = create_data_from_raw(music_raw_exp_second, area)"
      ],
      "execution_count": null,
      "outputs": []
    },
    {
      "cell_type": "code",
      "metadata": {
        "id": "sJ2TjdgF-o10",
        "colab_type": "code",
        "colab": {}
      },
      "source": [
        "def create_music_dataFrame(experiment, eyes):\n",
        "  data_for_frame = []\n",
        "  for area in results:\n",
        "    el = []\n",
        "    for band in bands:\n",
        "      rest = np.mean(results_music[area]['eyes'][eyes][band], axis=0) * np.power(10, 6)\n",
        "      task = np.mean(results_music[area]['experiment'][experiment][band], axis=0) * np.power(10, 6)\n",
        "      erd[area][band] = ERD(rest, task)        \n",
        "      el.append(erd[area][band])      \n",
        "    data_for_frame.append(el)\n",
        "  print(erd)\n",
        "  return pd.DataFrame(data_for_frame, columns=erd['central'].keys(), index=erd.keys())"
      ],
      "execution_count": null,
      "outputs": []
    },
    {
      "cell_type": "code",
      "metadata": {
        "id": "SydsL7aiAOos",
        "colab_type": "code",
        "colab": {
          "base_uri": "https://localhost:8080/",
          "height": 734
        },
        "outputId": "d6d543c0-3755-4035-f895-dee6d74efbd9"
      },
      "source": [
        "music_open_eyes_first_task = create_music_dataFrame('first', 'opened')\n",
        "music_open_eyes_second_task = create_music_dataFrame('second', 'opened')\n",
        "music_closed_eyes_first_task = create_music_dataFrame('first', 'closed')\n",
        "music_closed_eyes_second_task = create_music_dataFrame('second', 'closed')"
      ],
      "execution_count": null,
      "outputs": [
        {
          "output_type": "stream",
          "text": [
            "4.628225769525872e-05 -4.1196339753515284e-06\n",
            "-0.0004246217545831754 0.0004612536101344302\n",
            "-0.00043973293929265366 4.991110635717486e-06\n",
            "0.00019647708162120523 1.3151966843851077e-06\n",
            "-0.0007265508380322451 0.0005118875814219424\n",
            "-3.718772875439672e-05 1.6250416554537576e-05\n",
            "0.0004180443036498087 9.173534683989376e-05\n",
            "0.0008557016468888799 -0.00010305260290702947\n",
            "-0.0005035122914388673 4.259248692956706e-06\n",
            "{'frontal': {'alpha': 108.9011085035585, 'theta': 208.62693801150485, 'beta': 101.13503224110207}, 'central': {'alpha': 99.33061063736649, 'theta': 170.454475396149, 'beta': 143.69833033327234}, 'temporal': {'alpha': 78.05607060328718, 'theta': 112.04305300588157, 'beta': 100.84590759061416}}\n",
            "new\n",
            "4.628225769525872e-05 3.730509046453783e-05\n",
            "-0.0004246217545831754 0.000152569647855588\n",
            "-0.00043973293929265366 2.4958062610591645e-05\n",
            "0.00019647708162120523 1.5003606146381733e-05\n",
            "-0.0007265508380322451 0.00018582103703755162\n",
            "-3.718772875439672e-05 2.0068582910509983e-05\n",
            "0.0004180443036498087 8.111532318743756e-05\n",
            "0.0008557016468888799 -2.1148651055529175e-05\n",
            "-0.0005035122914388673 3.6111324405542977e-05\n",
            "{'frontal': {'alpha': 19.39656291149457, 'theta': 135.93071862400365, 'beta': 105.67573187733872}, 'central': {'alpha': 92.36368637879725, 'theta': 125.57577905227117, 'beta': 153.96560527546944}, 'temporal': {'alpha': 80.59647686160389, 'theta': 102.47149822983519, 'beta': 107.17188537788206}}\n",
            "-0.00018253609841297505 -4.1196339753515284e-06\n",
            "-0.0005252636332084808 0.0004612536101344302\n",
            "0.0003352753930731032 4.991110635717486e-06\n",
            "0.00013016879109090552 1.3151966843851077e-06\n",
            "-8.664488188803545e-05 0.0005118875814219424\n",
            "0.00013142166582601113 1.6250416554537576e-05\n",
            "-0.00025324076719012296 9.173534683989376e-05\n",
            "-0.0014192032579634017 -0.00010305260290702947\n",
            "-9.243359613892195e-05 4.259248692956706e-06\n",
            "{'frontal': {'alpha': 97.74311272610245, 'theta': 187.81373408947874, 'beta': 98.51134000918785}, 'central': {'alpha': 98.98962211036697, 'theta': 690.7880191739606, 'beta': 87.63490292684962}, 'temporal': {'alpha': 136.2245573087459, 'theta': 92.73870022995064, 'beta': 104.60790109967735}}\n",
            "-0.00018253609841297505 3.730509046453783e-05\n",
            "-0.0005252636332084808 0.000152569647855588\n",
            "0.0003352753930731032 2.4958062610591645e-05\n",
            "0.00013016879109090552 1.5003606146381733e-05\n",
            "-8.664488188803545e-05 0.00018582103703755162\n",
            "0.00013142166582601113 2.0068582910509983e-05\n",
            "-0.00025324076719012296 8.111532318743756e-05\n",
            "-0.0014192032579634017 -2.1148651055529175e-05\n",
            "-9.243359613892195e-05 3.6111324405542977e-05\n",
            "{'frontal': {'alpha': 120.43710301079061, 'theta': 129.04629945988134, 'beta': 92.55595157705183}, 'central': {'alpha': 88.47373013097761, 'theta': 314.4627968651096, 'beta': 84.7296237006471}, 'temporal': {'alpha': 132.03091038124185, 'theta': 98.50982225859049, 'beta': 139.06731525545095}}\n"
          ],
          "name": "stdout"
        }
      ]
    },
    {
      "cell_type": "code",
      "metadata": {
        "id": "SI3a5nsEASgP",
        "colab_type": "code",
        "colab": {
          "base_uri": "https://localhost:8080/",
          "height": 1000
        },
        "outputId": "e051a24f-be84-4b5e-b876-54f4142850be"
      },
      "source": [
        "music_open_eyes_first_task.plot(kind='bar', title='open eyes')\n",
        "music_open_eyes_second_task.plot(kind='bar', title='open eyes')\n",
        "music_closed_eyes_first_task.plot(kind='bar', title='closed eyes')\n",
        "music_closed_eyes_second_task.plot(kind='bar', title='closed eyes')"
      ],
      "execution_count": null,
      "outputs": [
        {
          "output_type": "execute_result",
          "data": {
            "text/plain": [
              "<matplotlib.axes._subplots.AxesSubplot at 0x7fd9199bdf98>"
            ]
          },
          "metadata": {
            "tags": []
          },
          "execution_count": 52
        },
        {
          "output_type": "display_data",
          "data": {
            "image/png": "[encoded data removed]",
            "text/plain": [
              "<Figure size 432x288 with 1 Axes>"
            ]
          },
          "metadata": {
            "tags": [],
            "needs_background": "light"
          }
        },
        {
          "output_type": "display_data",
          "data": {
            "image/png": "[encoded data removed]",
            "text/plain": [
              "<Figure size 432x288 with 1 Axes>"
            ]
          },
          "metadata": {
            "tags": [],
            "needs_background": "light"
          }
        },
        {
          "output_type": "display_data",
          "data": {
            "image/png": "[encoded data removed]",
            "text/plain": [
              "<Figure size 432x288 with 1 Axes>"
            ]
          },
          "metadata": {
            "tags": [],
            "needs_background": "light"
          }
        },
        {
          "output_type": "display_data",
          "data": {
            "image/png": "[encoded data removed]",
            "text/plain": [
              "<Figure size 432x288 with 1 Axes>"
            ]
          },
          "metadata": {
            "tags": [],
            "needs_background": "light"
          }
        }
      ]
    },
    {
      "cell_type": "markdown",
      "metadata": {
        "id": "ss4jT68IhC_A",
        "colab_type": "text"
      },
      "source": [
        "#### ERD with closed eyes\n",
        "- Very high desynchronization of theta band in central part of brain <br>\n"
      ]
    },
    {
      "cell_type": "markdown",
      "metadata": {
        "id": "cXr96869iSoD",
        "colab_type": "text"
      },
      "source": [
        "#### ERD with open eyes\n",
        "- Big difference between alpha and theta bands in frontal parts"
      ]
    },
    {
      "cell_type": "code",
      "metadata": {
        "id": "4fx0dEFNh4d7",
        "colab_type": "code",
        "colab": {}
      },
      "source": [
        ""
      ],
      "execution_count": null,
      "outputs": []
    }
  ]
}